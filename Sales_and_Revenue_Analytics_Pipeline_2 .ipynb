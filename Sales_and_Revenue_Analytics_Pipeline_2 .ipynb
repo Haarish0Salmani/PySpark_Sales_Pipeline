{
 "cells": [
  {
   "cell_type": "markdown",
   "id": "331edea6-0e70-47d1-8bca-ec5e1de25d0d",
   "metadata": {},
   "source": [
    "# Sales and Revenue Analytics Pipeline with PySpark (DataFrame API & Spark SQL)"
   ]
  },
  {
   "cell_type": "markdown",
   "id": "8cffe764-adde-49c1-8a51-6fc1ff207d8c",
   "metadata": {},
   "source": [
    "# Import necessary libraries"
   ]
  },
  {
   "cell_type": "code",
   "execution_count": null,
   "id": "9f66d0bb-9ebe-4802-9024-a5d62a3053b0",
   "metadata": {},
   "outputs": [],
   "source": [
    "from pyspark.sql import SparkSession\n",
    "from pyspark.sql.functions import sum, avg, count, col"
   ]
  },
  {
   "cell_type": "markdown",
   "id": "574545c9-1ad9-4730-943f-a07093609236",
   "metadata": {},
   "source": [
    "# Initialize Spark session"
   ]
  },
  {
   "cell_type": "code",
   "execution_count": null,
   "id": "c5ddaa77-3f2e-4d31-a890-5da8e45371d7",
   "metadata": {},
   "outputs": [],
   "source": [
    "spark = SparkSession.builder.appName(\"Sales and Revenue Analytics Pipeline\").getOrCreate()"
   ]
  },
  {
   "cell_type": "markdown",
   "id": "6d85325e-e829-49ff-8ed5-5554c4b263f1",
   "metadata": {},
   "source": [
    "# ==============================\n",
    "# Data Loading Section\n",
    "# =============================="
   ]
  },
  {
   "cell_type": "code",
   "execution_count": null,
   "id": "4a7acaba-7ca4-4cd1-b57b-88e33d61b6b4",
   "metadata": {},
   "outputs": [],
   "source": [
    "\n",
    "# Load sales data\n",
    "sales_df = spark.read.format(\"csv\")\\\n",
    "            .option(\"header\", \"true\")\\\n",
    "            .option(\"inferSchema\", \"true\")\\\n",
    "            .load(\"dataset/sales/sales_data.csv\")\n",
    "\n",
    "# Load product data\n",
    "product_df = spark.read.format(\"csv\")\\\n",
    "            .option(\"header\", \"true\")\\\n",
    "            .option(\"inferSchema\", \"true\")\\\n",
    "            .load(\"dataset/sales/product_df.csv\")\n",
    "\n",
    "# Load customer data\n",
    "customer_df = spark.read.format(\"csv\")\\\n",
    "            .option(\"header\", \"true\")\\\n",
    "            .option(\"inferSchema\", \"true\")\\\n",
    "            .load(\"dataset/sales/customer_df.csv\")\n",
    "\n",
    "# Load inventory data\n",
    "inventory_df = spark.read.format(\"csv\")\\\n",
    "            .option(\"header\", \"true\")\\\n",
    "            .option(\"inferSchema\", \"true\")\\\n",
    "            .load(\"dataset/sales/inventory_df.csv\")\n"
   ]
  },
  {
   "cell_type": "markdown",
   "id": "682d8220-5eef-4e71-9c85-e6f0962aed34",
   "metadata": {},
   "source": [
    "# ==============================\n",
    "# DataFrame API - Enrich Sales Data Using Joins\n",
    "# =============================="
   ]
  },
  {
   "cell_type": "code",
   "execution_count": null,
   "id": "f68b94fd-c098-43f9-8e80-c248bcb587c4",
   "metadata": {},
   "outputs": [],
   "source": [
    "sales_enriched_df = sales_df\\\n",
    "                    .join(product_df, 'product_id', 'left')\\\n",
    "                    .join(customer_df, 'customer_id', 'left')\\\n",
    "                    .join(inventory_df, 'product_id', 'left')"
   ]
  },
  {
   "cell_type": "markdown",
   "id": "e8d97ca8-0b4b-4627-aefc-594cbf5f7a25",
   "metadata": {},
   "source": [
    "# ==============================\n",
    "# Spark SQL - Enrich Sales Data Using SQL Joins\n",
    "# =============================="
   ]
  },
  {
   "cell_type": "code",
   "execution_count": null,
   "id": "9439f459-16e8-4187-9085-1f812732843e",
   "metadata": {},
   "outputs": [],
   "source": [
    "# Register DataFrames as temporary views for Spark SQL usage\n",
    "sales_df.createOrReplaceTempView(\"sales\")\n",
    "product_df.createOrReplaceTempView(\"product\")\n",
    "customer_df.createOrReplaceTempView(\"customer\")\n",
    "inventory_df.createOrReplaceTempView(\"inventory\")\n",
    "\n",
    "# Spark SQL Query to enrich sales data\n",
    "sales_enriched_sql = spark.sql(\"\"\"\n",
    "    SELECT s.*, p.*, c.*, i.*\n",
    "    FROM sales s\n",
    "    LEFT JOIN product p ON s.product_id = p.product_id\n",
    "    LEFT JOIN customer c ON s.customer_id = c.customer_id\n",
    "    LEFT JOIN inventory i ON s.product_id = i.product_id\n",
    "\"\"\")\n"
   ]
  },
  {
   "cell_type": "markdown",
   "id": "575d81c7-1964-4663-8379-76c8fd307193",
   "metadata": {},
   "source": [
    "# ==============================\n",
    "# Filtering Section\n",
    "# =============================="
   ]
  },
  {
   "cell_type": "code",
   "execution_count": null,
   "id": "2e7a27db-7464-4445-bbe6-310d6835edc6",
   "metadata": {},
   "outputs": [],
   "source": [
    "# DataFrame API - Filter for Completed Sales\n",
    "sales_completed_df = sales_enriched_df.filter(col(\"status\") == \"Completed\")\n",
    "\n",
    "# Spark SQL - Filter for Completed Sales\n",
    "sales_enriched_sql.createOrReplaceTempView('sales_enriched_sql')\n",
    "\n",
    "sales_completed_sql = spark.sql(\"\"\"\n",
    "    SELECT *\n",
    "    FROM sales_enriched_sql\n",
    "    WHERE status = 'Completed'\n",
    "\"\"\")\n"
   ]
  },
  {
   "cell_type": "markdown",
   "id": "78913157-3a6a-4e81-b9c7-2e757319392e",
   "metadata": {},
   "source": [
    "# ==============================\n",
    "# Aggregation Section\n",
    "# =============================="
   ]
  },
  {
   "cell_type": "code",
   "execution_count": null,
   "id": "e1589b8c-faab-4f2c-97c7-96c100c315ac",
   "metadata": {},
   "outputs": [],
   "source": [
    "# DataFrame API - Aggregate Revenue Metrics\n",
    "agg_df = sales_completed_df.groupBy(\"city\", \"category\", \"sale_date\")\\\n",
    "    .agg(\n",
    "        sum(\"Price\").alias(\"total_revenue\"),\n",
    "        avg(\"Price\").alias(\"avg_order_value\"),\n",
    "        count(\"*\").alias(\"total_sales\")\n",
    "    )\n",
    "\n",
    "# Spark SQL - Aggregate Revenue Metrics\n",
    "sales_completed_sql.createOrReplaceTempView('sales_completed_sql')\n",
    "agg_sql = spark.sql(\"\"\"\n",
    "    SELECT \n",
    "        city, \n",
    "        category, \n",
    "        sale_date, \n",
    "        SUM(Price) AS total_revenue, \n",
    "        AVG(Price) AS avg_order_value, \n",
    "        COUNT(*) AS total_sales\n",
    "    FROM sales_completed_sql\n",
    "    GROUP BY city, category, sale_date\n",
    "\"\"\")\n"
   ]
  },
  {
   "cell_type": "markdown",
   "id": "dfd709ce-0f70-41d0-9120-8db786c1aa2e",
   "metadata": {},
   "source": [
    "# ==============================\n",
    "# Data Output Section\n",
    "# =============================="
   ]
  },
  {
   "cell_type": "code",
   "execution_count": null,
   "id": "8f28bf73-160b-466b-bdb3-47819cf43343",
   "metadata": {},
   "outputs": [],
   "source": [
    "# Save DataFrame API result to CSV\n",
    "agg_df.coalesce(1).write.format(\"csv\")\\\n",
    "    .option(\"header\", \"true\")\\\n",
    "    .mode(\"overwrite\")\\\n",
    "    .save(\"dataset/sales/output_df/\")\n",
    "\n",
    "# Save Spark SQL result to CSV\n",
    "agg_sql.coalesce(1).write.format(\"csv\")\\\n",
    "    .option(\"header\", \"true\")\\\n",
    "    .mode(\"overwrite\")\\\n",
    "    .save(\"dataset/sales/output_sql/\")\n"
   ]
  },
  {
   "cell_type": "code",
   "execution_count": null,
   "id": "4cf79f2b-4ac0-421d-ad03-fa4e01c16e6b",
   "metadata": {},
   "outputs": [],
   "source": [
    "print(\"Sales and Revenue Analytics Pipeline executed successfully!\")"
   ]
  },
  {
   "cell_type": "code",
   "execution_count": null,
   "id": "9044d8bc-344c-4641-bbd9-6cb592ad8425",
   "metadata": {},
   "outputs": [],
   "source": []
  },
  {
   "cell_type": "code",
   "execution_count": null,
   "id": "e993cf35-395f-4a86-b13d-1c322a26364b",
   "metadata": {},
   "outputs": [],
   "source": []
  },
  {
   "cell_type": "code",
   "execution_count": null,
   "id": "a54caff9-9349-4fc1-89c3-510faab5c1ef",
   "metadata": {},
   "outputs": [],
   "source": []
  },
  {
   "cell_type": "code",
   "execution_count": null,
   "id": "9e7d74d9-ae23-4a0d-bb55-9f339d0607b2",
   "metadata": {},
   "outputs": [],
   "source": []
  },
  {
   "cell_type": "code",
   "execution_count": null,
   "id": "4c2cb0b2-3279-4807-8aaa-c0c1cf53a919",
   "metadata": {},
   "outputs": [],
   "source": []
  }
 ],
 "metadata": {
  "kernelspec": {
   "display_name": "Python 3 (ipykernel)",
   "language": "python",
   "name": "python3"
  },
  "language_info": {
   "codemirror_mode": {
    "name": "ipython",
    "version": 3
   },
   "file_extension": ".py",
   "mimetype": "text/x-python",
   "name": "python",
   "nbconvert_exporter": "python",
   "pygments_lexer": "ipython3",
   "version": "3.11.7"
  }
 },
 "nbformat": 4,
 "nbformat_minor": 5
}
